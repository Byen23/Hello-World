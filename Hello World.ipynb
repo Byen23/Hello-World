{
 "cells": [
  {
   "cell_type": "code",
   "execution_count": 1,
   "metadata": {
    "ExecuteTime": {
     "end_time": "2019-01-06T10:08:58.097262Z",
     "start_time": "2019-01-06T10:08:58.086267Z"
    },
    "scrolled": true
   },
   "outputs": [
    {
     "name": "stdout",
     "output_type": "stream",
     "text": [
      "Hello World \n",
      "This program will also be uploaded to Github Hello World Repo\n",
      "This is coded in Jupyter notebooks.\n"
     ]
    }
   ],
   "source": [
    "# Hello World Program in Jupyter Notebooks\n",
    "\n",
    "print(\"Hello World \\nThis program will also be uploaded to Github Hello World Repo\")\n",
    "print(\"This is coded in Jupyter notebooks.\")"
   ]
  }
 ],
 "metadata": {
  "kernelspec": {
   "display_name": "Python 3",
   "language": "python",
   "name": "python3"
  },
  "language_info": {
   "codemirror_mode": {
    "name": "ipython",
    "version": 3
   },
   "file_extension": ".py",
   "mimetype": "text/x-python",
   "name": "python",
   "nbconvert_exporter": "python",
   "pygments_lexer": "ipython3",
   "version": "3.6.7"
  }
 },
 "nbformat": 4,
 "nbformat_minor": 2
}
